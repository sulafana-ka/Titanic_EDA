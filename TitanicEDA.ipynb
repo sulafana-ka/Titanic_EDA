{
 "cells": [
  {
   "cell_type": "code",
   "execution_count": 3,
   "id": "1392f140-e81c-4f5e-a7b1-55a84f638507",
   "metadata": {},
   "outputs": [
    {
     "name": "stdout",
     "output_type": "stream",
     "text": [
      "   PassengerId  Survived  Pclass  \\\n",
      "0            1         0       3   \n",
      "1            2         1       1   \n",
      "2            3         1       3   \n",
      "3            4         1       1   \n",
      "4            5         0       3   \n",
      "\n",
      "                                                Name     Sex   Age  SibSp  \\\n",
      "0                            Braund, Mr. Owen Harris    male  22.0      1   \n",
      "1  Cumings, Mrs. John Bradley (Florence Briggs Th...  female  38.0      1   \n",
      "2                             Heikkinen, Miss. Laina  female  26.0      0   \n",
      "3       Futrelle, Mrs. Jacques Heath (Lily May Peel)  female  35.0      1   \n",
      "4                           Allen, Mr. William Henry    male  35.0      0   \n",
      "\n",
      "   Parch            Ticket     Fare Cabin Embarked  \n",
      "0      0         A/5 21171   7.2500   NaN        S  \n",
      "1      0          PC 17599  71.2833   C85        C  \n",
      "2      0  STON/O2. 3101282   7.9250   NaN        S  \n",
      "3      0            113803  53.1000  C123        S  \n",
      "4      0            373450   8.0500   NaN        S  \n"
     ]
    }
   ],
   "source": [
    "import pandas as pd\n",
    "import numpy as np \n",
    "import matplotlib.pyplot as plt\n",
    "import seaborn as sns\n",
    "\n",
    "df = pd.read_csv('train.csv')\n",
    "\n",
    "print(df.head())\n"
   ]
  },
  {
   "cell_type": "code",
   "execution_count": 5,
   "id": "8f2e4b7a-ac86-4b91-aae4-6c7e26b2d004",
   "metadata": {},
   "outputs": [
    {
     "name": "stdout",
     "output_type": "stream",
     "text": [
      "<class 'pandas.core.frame.DataFrame'>\n",
      "RangeIndex: 891 entries, 0 to 890\n",
      "Data columns (total 12 columns):\n",
      " #   Column       Non-Null Count  Dtype  \n",
      "---  ------       --------------  -----  \n",
      " 0   PassengerId  891 non-null    int64  \n",
      " 1   Survived     891 non-null    int64  \n",
      " 2   Pclass       891 non-null    int64  \n",
      " 3   Name         891 non-null    object \n",
      " 4   Sex          891 non-null    object \n",
      " 5   Age          714 non-null    float64\n",
      " 6   SibSp        891 non-null    int64  \n",
      " 7   Parch        891 non-null    int64  \n",
      " 8   Ticket       891 non-null    object \n",
      " 9   Fare         891 non-null    float64\n",
      " 10  Cabin        204 non-null    object \n",
      " 11  Embarked     889 non-null    object \n",
      "dtypes: float64(2), int64(5), object(5)\n",
      "memory usage: 83.7+ KB\n",
      "None\n"
     ]
    }
   ],
   "source": [
    "print(df.info())"
   ]
  },
  {
   "cell_type": "code",
   "execution_count": 6,
   "id": "1e700ef1-0b30-4692-af3a-4012a75aeb21",
   "metadata": {},
   "outputs": [
    {
     "name": "stdout",
     "output_type": "stream",
     "text": [
      "       PassengerId    Survived      Pclass         Age       SibSp  \\\n",
      "count   891.000000  891.000000  891.000000  714.000000  891.000000   \n",
      "mean    446.000000    0.383838    2.308642   29.699118    0.523008   \n",
      "std     257.353842    0.486592    0.836071   14.526497    1.102743   \n",
      "min       1.000000    0.000000    1.000000    0.420000    0.000000   \n",
      "25%     223.500000    0.000000    2.000000   20.125000    0.000000   \n",
      "50%     446.000000    0.000000    3.000000   28.000000    0.000000   \n",
      "75%     668.500000    1.000000    3.000000   38.000000    1.000000   \n",
      "max     891.000000    1.000000    3.000000   80.000000    8.000000   \n",
      "\n",
      "            Parch        Fare  \n",
      "count  891.000000  891.000000  \n",
      "mean     0.381594   32.204208  \n",
      "std      0.806057   49.693429  \n",
      "min      0.000000    0.000000  \n",
      "25%      0.000000    7.910400  \n",
      "50%      0.000000   14.454200  \n",
      "75%      0.000000   31.000000  \n",
      "max      6.000000  512.329200  \n"
     ]
    }
   ],
   "source": [
    "print(df.describe())"
   ]
  },
  {
   "cell_type": "code",
   "execution_count": 12,
   "id": "a1ab5dcc-7009-426a-acab-f76dc8b0f4c6",
   "metadata": {},
   "outputs": [
    {
     "name": "stdout",
     "output_type": "stream",
     "text": [
      "Missing values before cleaning:\n",
      " PassengerId      0\n",
      "Survived         0\n",
      "Pclass           0\n",
      "Name             0\n",
      "Sex              0\n",
      "Age              0\n",
      "SibSp            0\n",
      "Parch            0\n",
      "Ticket           0\n",
      "Fare             0\n",
      "Cabin          687\n",
      "Embarked         0\n",
      "dtype: int64\n"
     ]
    }
   ],
   "source": [
    "# The median age (28) \n",
    "df['Age'] = df['Age'].fillna(df['Age'].median())\n",
    "\n",
    "# 1. Check for remaining missing values\n",
    "print(\"Missing values before cleaning:\\n\", df.isnull().sum())\n",
    "\n",
    "# 2. Fill the two missing 'Embarked' values with the most frequent value (the Mode)\n",
    "# The mode is found by df['Embarked'].mode()[0]\n",
    "mode_embarked = df['Embarked'].mode()[0] \n",
    "df['Embarked'] = df['Embarked'].fillna(mode_embarked)\n"
   ]
  },
  {
   "cell_type": "code",
   "execution_count": 13,
   "id": "99d5752a-89c1-4cee-8230-6d044aac91f8",
   "metadata": {},
   "outputs": [],
   "source": [
    "# 'Cabin' has too many missing values (too messy for simple EDA)\n",
    "#  'Name'and 'Ticket' are unique identifiers and not useful for patterns\n",
    "df.drop([ 'Name', 'Ticket', 'Cabin'], axis=1, inplace=True)"
   ]
  },
  {
   "cell_type": "code",
   "execution_count": 14,
   "id": "0c0b3e98-1edb-42b4-bb14-d372ea01d6e0",
   "metadata": {},
   "outputs": [
    {
     "data": {
      "image/png": "[encoded data removed]",
      "text/plain": [
       "<Figure size 640x480 with 1 Axes>"
      ]
     },
     "metadata": {},
     "output_type": "display_data"
    }
   ],
   "source": [
    "import seaborn as sns\n",
    "import matplotlib.pyplot as plt\n",
    "\n",
    "# 1. Survival by Gender\n",
    "sns.countplot(x='Sex', hue='Survived', data=df)\n",
    "plt.title('Survival Count by Gender')\n",
    "plt.show()\n",
    "\n"
   ]
  },
  {
   "cell_type": "code",
   "execution_count": null,
   "id": "614c2a6e-77dd-4360-9313-10f454f4acbd",
   "metadata": {},
   "outputs": [],
   "source": [
    "#Insight: Gender was the strongest predictor of survival.\n",
    "#BLUE-NOT SURVIVED   #ORANGE-SURVIVED\n",
    "#The majority of female passengers survived, \n",
    "#while the vast majority of male passengers perished. \n"
   ]
  },
  {
   "cell_type": "code",
   "execution_count": 15,
   "id": "e8b2e44b-40e5-4758-9841-dafbd537bdbb",
   "metadata": {},
   "outputs": [
    {
     "data": {
      "image/png": "[encoded data removed]",
      "text/plain": [
       "<Figure size 640x480 with 1 Axes>"
      ]
     },
     "metadata": {},
     "output_type": "display_data"
    }
   ],
   "source": [
    "# 2. Survival by Passenger Class (Pclass)\n",
    "sns.countplot(x='Pclass', hue='Survived', data=df)\n",
    "plt.title('Survival Count by Passenger Class')\n",
    "plt.show()"
   ]
  },
  {
   "cell_type": "code",
   "execution_count": null,
   "id": "53cf78d7-09b1-476e-9d69-dc479af69c4c",
   "metadata": {},
   "outputs": [],
   "source": [
    "#First Class passengers had the highest survival rate,\n",
    "#showing that wealth/status strongly influenced outcome.\n",
    "\n",
    "#Second Class passengers had approximately a 50/50 chance of survival.\n",
    "\n",
    "#Third Class passengers had the lowest survival rate and accounted for the largest volume of deaths."
   ]
  },
  {
   "cell_type": "code",
   "execution_count": 16,
   "id": "c4ef098d-50e5-4a37-91c3-b23a2f01ecab",
   "metadata": {},
   "outputs": [
    {
     "data": {
      "image/png": "[encoded data removed]",
      "text/plain": [
       "<Figure size 640x480 with 1 Axes>"
      ]
     },
     "metadata": {},
     "output_type": "display_data"
    }
   ],
   "source": [
    "#AGE DISTRIBUTION BY SURVIVAL\n",
    "sns.boxplot(x='Survived', y='Age', data=df)\n",
    "plt.title('Age Distribution by Survival Status')\n",
    "plt.show()\n"
   ]
  },
  {
   "cell_type": "code",
   "execution_count": null,
   "id": "bafbc228-a9e9-43bf-b27b-88f48fc444e2",
   "metadata": {},
   "outputs": [],
   "source": [
    "#Median Age: The central line for both groups is nearly identical (approx. 28-29).\n",
    "\n",
    "#Distribution Range: The middle 50% of the data (the height of the box) also occupies a very similar age range for both.\n",
    "\n",
    "#Extremes: Both groups show outliers extending down to infancy and up to old age (80).\n",
    "\n",
    "#When looking at the overall distribution, age is not a strong linear predictor of survival.\n",
    "#A person's age, on its own, was not a dominant factor compared to gender or passenger class."
   ]
  },
  {
   "cell_type": "code",
   "execution_count": 17,
   "id": "6f630f2d-f4c3-4f4b-a959-b114c16ed1d4",
   "metadata": {},
   "outputs": [
    {
     "name": "stdout",
     "output_type": "stream",
     "text": [
      "             PassengerId  Survived    Pclass       Age     SibSp     Parch  \\\n",
      "PassengerId     1.000000 -0.005007 -0.035144  0.034212 -0.057527 -0.001652   \n",
      "Survived       -0.005007  1.000000 -0.338481 -0.064910 -0.035322  0.081629   \n",
      "Pclass         -0.035144 -0.338481  1.000000 -0.339898  0.083081  0.018443   \n",
      "Age             0.034212 -0.064910 -0.339898  1.000000 -0.233296 -0.172482   \n",
      "SibSp          -0.057527 -0.035322  0.083081 -0.233296  1.000000  0.414838   \n",
      "Parch          -0.001652  0.081629  0.018443 -0.172482  0.414838  1.000000   \n",
      "Fare            0.012658  0.257307 -0.549500  0.096688  0.159651  0.216225   \n",
      "\n",
      "                 Fare  \n",
      "PassengerId  0.012658  \n",
      "Survived     0.257307  \n",
      "Pclass      -0.549500  \n",
      "Age          0.096688  \n",
      "SibSp        0.159651  \n",
      "Parch        0.216225  \n",
      "Fare         1.000000  \n"
     ]
    }
   ],
   "source": [
    "# Select only numerical columns for correlation\n",
    "corr_matrix = df.select_dtypes(include=np.number).corr() \n",
    "print(corr_matrix)"
   ]
  },
  {
   "cell_type": "code",
   "execution_count": null,
   "id": "85ca7754-0fbf-49cd-a160-0a37df457b91",
   "metadata": {},
   "outputs": [],
   "source": [
    "# pclass-This is the strongest correlation among these numerical variables.\n",
    "#The negative sign&(-0.338) confirms that as class number increases (going from 1 to 3), survival decreases.\n",
    "\n",
    "#There is a moderate positive correlation(0.257).\n",
    "#passengers who paid a higher fare were more likely to survive ( 1st class passengers).\n",
    "\n",
    "#The correlation is very close to zero(-0.065) \n",
    "#confirming that there is no meaningful linear relationship between a person's age and their survival rate."
   ]
  }
 ],
 "metadata": {
  "kernelspec": {
   "display_name": "Python 3 (ipykernel)",
   "language": "python",
   "name": "python3"
  },
  "language_info": {
   "codemirror_mode": {
    "name": "ipython",
    "version": 3
   },
   "file_extension": ".py",
   "mimetype": "text/x-python",
   "name": "python",
   "nbconvert_exporter": "python",
   "pygments_lexer": "ipython3",
   "version": "3.13.3"
  }
 },
 "nbformat": 4,
 "nbformat_minor": 5
}
